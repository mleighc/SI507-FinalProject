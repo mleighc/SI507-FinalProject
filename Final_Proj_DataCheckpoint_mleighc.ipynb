{
 "cells": [
  {
   "cell_type": "markdown",
   "id": "cc9c944d-6f02-47e1-9dce-4c3f7009233f",
   "metadata": {},
   "source": [
    "## SI507 Final Project Data Checkpoint"
   ]
  },
  {
   "cell_type": "markdown",
   "id": "205900dc-86d6-40ad-aec8-ad7d9f4d32bd",
   "metadata": {},
   "source": [
    "### Project Code Repo\n",
    "[mleighc/SI507-FinalProject](https://github.com/mleighc/SI507-FinalProject.git)\n"
   ]
  },
  {
   "cell_type": "markdown",
   "id": "cf4c8997-aaa1-49bd-b0cd-e3dd85b4bfd5",
   "metadata": {},
   "source": [
    "### Data Sources\n",
    "* [BoardGameGeek XML API2](https://boardgamegeek.com/wiki/page/BGG_XML_API2)       \n",
    "    * BGG's API which includes user and game ratings details.\n",
    "    * Will be using xmltodict to convert xml data to a dictionary for easier manipulation in python\n",
    "    * Able to access those same 20k+ boardgames with additional features such as:\n",
    "    > * Description\n",
    "    > * Full Image of Game Cover\n",
    "    > * List of Honors\n",
    "    > * Integrations\n",
    "* [Kaggle Dataset of Board Game Attributes](https://www.kaggle.com/datasets/andrewmvd/board-games)        \n",
    "    * At this link, there is a csv of about 20k board games with 14 column attributes. \n",
    "    * 20,344 rows of data with some of the following features: \n",
    "    > * ID\n",
    "    > * Year Published\n",
    "    > * Min Players\n",
    "    > * Max Players\n",
    "    > * Play Time\n",
    "    > * Min Age \n",
    "    > * Rating Average\n",
    "    > * Domains\n",
    "* [Diving into BoardGameGeek](https://jvanelteren.github.io/blog/2022/01/19/boardgames.html).   \n",
    "    * Article with insights on BGG's ratings just for some research/context\n",
    "* [Kaggle Datasets of BoardGameGeek Reviews in CSV](https://www.kaggle.com/datasets/jvanelteren/boardgamegeek-reviews?select=games_detailed_info.csv)    \n",
    "    * At this link, there is a csv from 1.8.2022 of some game ratings data from BGG's website. It is a large file of all the data that can also be accessed via the API.\n",
    "* [BoardGameGeek Data Dictionary on Ratings](https://boardgamegeek.com/wiki/page/ratings)      \n",
    "    * Additional context and details on the rating system on BGG's website.\n",
    "* [BoardGameGeek API Terms of Use](https://boardgamegeek.com/wiki/page/XML_API_Terms_of_Use#)       \n",
    "    * This is a link to BGG's Terms of Service for the data for my reference.\n",
    "    \n",
    "### Caching\n",
    "Saving the xml data to json and will enhance these json objects with additional data accessed from the kaggle csv file as well as additional API calls. All data sourced from Board Game Geek's website. This example json file includes boardgames that are considered \"hot\" or currently most popular. I want to enhance this information with additional attributes like 'min no. players', 'min or max age', 'ratings', etc. This way I won't have to keep making API calls since the data will combined and cached in a json file to be loaded into my tree structure.         \n",
    "![json cache](json_save.png)      "
   ]
  },
  {
   "cell_type": "markdown",
   "id": "44cf005a-f0db-41d3-a642-cd6ce561cafd",
   "metadata": {},
   "source": [
    "### Data Structure"
   ]
  },
  {
   "cell_type": "markdown",
   "id": "09fef3b5-18a6-4320-b64a-584f36566ef2",
   "metadata": {},
   "source": [
    "### Interaction and Presentation Plans"
   ]
  }
 ],
 "metadata": {
  "kernelspec": {
   "display_name": "Python 3 (ipykernel)",
   "language": "python",
   "name": "python3"
  },
  "language_info": {
   "codemirror_mode": {
    "name": "ipython",
    "version": 3
   },
   "file_extension": ".py",
   "mimetype": "text/x-python",
   "name": "python",
   "nbconvert_exporter": "python",
   "pygments_lexer": "ipython3",
   "version": "3.8.12"
  }
 },
 "nbformat": 4,
 "nbformat_minor": 5
}

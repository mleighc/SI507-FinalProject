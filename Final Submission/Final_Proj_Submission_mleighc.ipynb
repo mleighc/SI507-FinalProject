{
 "cells": [
  {
   "cell_type": "markdown",
   "id": "cc9c944d-6f02-47e1-9dce-4c3f7009233f",
   "metadata": {},
   "source": [
    "# SI507 Final Project Submission"
   ]
  },
  {
   "cell_type": "markdown",
   "id": "205900dc-86d6-40ad-aec8-ad7d9f4d32bd",
   "metadata": {
    "tags": []
   },
   "source": [
    "### Github Repo\n",
    "[mleighc/SI507-FinalProject](https://github.com/mleighc/SI507-FinalProject.git)           \n"
   ]
  },
  {
   "cell_type": "markdown",
   "id": "68c41b17-c2ed-4b30-8c24-4f9eda7dbb5e",
   "metadata": {},
   "source": [
    "### Project Code\n",
    "**Packages**:             \n",
    "> requests   \n",
    "> xmltodict    \n",
    "> webbrowser   \n",
    "     \n",
    "## README\n",
    "**Files**:                  \n",
    "* **Final_Proj_API.py**\n",
    "> Python File with code for accessing Board Game Geek's API and reading the data from XML to json in order to clean and parse the data. Then, the json objects are written to a json file.\n",
    "\n",
    "* **bgg_list.json**\n",
    "> The final file created by the code in Final_Proj_API.py.\n",
    "\n",
    "* **hot_boardgames.json**\n",
    "> Test json file used as initial example for figuring our the process of writing xmltodict and then saving that dict to json.\n",
    "\n",
    "* **Final_Proj_Tree.py**\n",
    "> Code for reading in the bgg_list.json file, parsing the data based on the outline of the tree structure and user question/answer flow, then loading that data into the tree structure. This file also include the control flow for interacting with the user and displaying necessary game information based on their answers to the computer's questions.\n",
    "\n",
    "**Description of the Program**:      \n",
    "     \n",
    "First, I began by accessing about 20k board game records from a combination of xml data accessed via Board Game Geek's (BGG) API, along with a Kaggle csv of additional board game attribute data scraped from BGG by another user. Using the xmltodict package, I was able to parse the xml data and save it to a python dictionary. From there, I enhanced the dictionary objects with additional board game attributes from the Kaggle csv and saved a selected subset of the records (about 500) to a json file.\n",
    "\n",
    "After getting a better understanding of the data, I was able to think through various methods of categorizing the data (i.e. solo vs. multiplayer games, short vs. long play time, family vs. party games, etc.) in order to create a tree of questions to be asked of the user. These user questions would allow the computer to filter through the subset of the ~20k board game objects and recommend the right list for the user. From there, the user can access details from individual records to make their final selection. I used a subset of data for ease of processing on my limited computer memory, but I believe a larger subset could be worked through and loaded, as well as the addition of more subquestions to shorten the result lists that are returned."
   ]
  },
  {
   "cell_type": "markdown",
   "id": "cf4c8997-aaa1-49bd-b0cd-e3dd85b4bfd5",
   "metadata": {},
   "source": [
    "### Data Sources\n",
    "* [BoardGameGeek XML API2](https://boardgamegeek.com/wiki/page/BGG_XML_API2)       \n",
    "    * 20k+ records available\n",
    "    * Retrieved about 500\n",
    "    * API Data is in XML format\n",
    "    * Accessed data using *requests* and *xmltodict* modules\n",
    "    * Enhanced original dictionary with additional attributes from below Kaggle csv\n",
    "    * Cleaned and saved the dictionary to a json file to be read into Final_Proj_Tree.py file\n",
    "    * _Key Fields_: ID, Name, Year Published, Min Players, Max Players, Play Time, Min Age, Rating Average, Complexity Average, Domains, Categories\n",
    "* [Kaggle Dataset of Board Game Attributes](https://www.kaggle.com/datasets/andrewmvd/board-games)        \n",
    "    * 20k+ records\n",
    "    * csv of game attributes also accessed from Board Game Geek's website  \n",
    "    * Read csv into Final_Proj_Tree.py\n",
    "    * Used additional attributes to enhance dictionaries that represent games"
   ]
  },
  {
   "cell_type": "markdown",
   "id": "c95d8bd7-93f7-4b2d-9f39-8d788b7ad6a0",
   "metadata": {},
   "source": [
    "### More Info on BGG Data\n",
    "* [Diving into BoardGameGeek](https://jvanelteren.github.io/blog/2022/01/19/boardgames.html).   \n",
    "    * Article with insights on BGG's ratings just for some research/context\n",
    "* [BoardGameGeek Data Dictionary on Ratings](https://boardgamegeek.com/wiki/page/ratings)      \n",
    "    * Additional context and details on the rating system on BGG's website.\n",
    "* [BoardGameGeek API Terms of Use](https://boardgamegeek.com/wiki/page/XML_API_Terms_of_Use#)       \n",
    "    * This is a link to BGG's Terms of Service for the data for my reference."
   ]
  },
  {
   "cell_type": "markdown",
   "id": "44cf005a-f0db-41d3-a642-cd6ce561cafd",
   "metadata": {},
   "source": [
    "### Data Structure\n",
    "The board game data, along with a series of categorical (this or that, yes or no) questions, were saved into a tree structure. The tree is formatted as triples or tuples of 3 tuples. I used a json file as an intermediate cache to save the API/XML data before reading the json file into my Final_Project_Tree.py file for manipulation and parsing. The \"filtered\" results are stored as a list of dictionaries and saved in the last leaf of each subTree to be accessed by the _display_list_ and _pick_game_ functions.     \n",
    "       \n",
    "**JSON Cache**      \n",
    "![bgg_list](bgg_list.png)     \n",
    "       \n",
    "**Tree Structure**       \n",
    "![game_tree](game_tree.png)           \n",
    "       \n",
    "    "
   ]
  },
  {
   "cell_type": "markdown",
   "id": "a252182c",
   "metadata": {},
   "source": [
    "### Interaction and Presentation\n",
    "The user will initiate the python script on the command line (`python3 Final_Proj_Tree.py`). They will first see a welcome message that gives them brief instructions on how to interact with the program (`Welcome to the Board Game Recommender!\n",
    "I will ask you a series of questions in order to get to know you better.\n",
    "With this information, I can make recommendations on your next awesome board game experience!\n",
    "Let's Begin:`).        \n",
    "    \n",
    "The root of the tree is the very first categorical question (`Are you looking for a game to play solo or with others?`), which bisects the board game data based on Max Player numbers. From there, they continue to answer a series of questions until the final Result Leaf is reached and a final filtered list of game dictionaries is pretty printed to the screen with its `ID` and `Name`. The user is asked to select one of the games by its `ID` in order to view the game's description, as well as access its cover image url in a web browser. Once that information is displayed to the user, they are prompted to decide whether they'd like to view the details of another game or `Exit` the program.        \n",
    "      \n",
    "If another `ID` is entered, the program will contnue to display the information and prompt the user to enter a new `ID`. If `Exit` is entered, the user is prompted to decide whether they'd like to begin the question/answer process from the top or end the program completely."
   ]
  },
  {
   "cell_type": "markdown",
   "id": "02b836b8",
   "metadata": {},
   "source": [
    "### Demo Video\n",
    "[title](https://www.example.com)       "
   ]
  }
 ],
 "metadata": {
  "kernelspec": {
   "display_name": "Python 3 (ipykernel)",
   "language": "python",
   "name": "python3"
  },
  "language_info": {
   "codemirror_mode": {
    "name": "ipython",
    "version": 3
   },
   "file_extension": ".py",
   "mimetype": "text/x-python",
   "name": "python",
   "nbconvert_exporter": "python",
   "pygments_lexer": "ipython3",
   "version": "3.9.7"
  }
 },
 "nbformat": 4,
 "nbformat_minor": 5
}

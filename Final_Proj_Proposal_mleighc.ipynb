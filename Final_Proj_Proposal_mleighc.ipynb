{
 "cells": [
  {
   "cell_type": "markdown",
   "id": "cc9c944d-6f02-47e1-9dce-4c3f7009233f",
   "metadata": {},
   "source": [
    "## SI507 Final Project Proposal"
   ]
  },
  {
   "cell_type": "markdown",
   "id": "205900dc-86d6-40ad-aec8-ad7d9f4d32bd",
   "metadata": {},
   "source": [
    "### Proposal \n",
    "I happened upon what appears to be a robust dataset of board game reviews along with additional data on board games that is available from boardgamegeek.com via API. Based on the review data and additional game attributes available via the API, I am hoping to create a recommender system by loading this information into a tree and asking the user a few questions in order to pull up the best game for them to play based on the crowdsourced ratings. I am interested to see how I can refine this plan once I've had a bit more time exploring the data available via the API. At first glance, the API includes some interesting parameters that allow you to access videos about the game, as well as details on users, forums, and threads. I also located a large dataset of Board Game attributes via Kaggle, which I hope to use to enhance the ability for the user to query based on more than just ratings. This dataset includes play time, age range, as well as # of players. I am hoping to combine these various datasets to ultimately create my board game recommender tree. "
   ]
  },
  {
   "cell_type": "markdown",
   "id": "cf4c8997-aaa1-49bd-b0cd-e3dd85b4bfd5",
   "metadata": {},
   "source": [
    "### Resources\n",
    "* [Kaggle Datasets of BoardGameGeek Reviews in CSV](https://www.kaggle.com/datasets/jvanelteren/boardgamegeek-reviews?select=games_detailed_info.csv)    \n",
    "    * At this link, there is a csv from 1.8.2022 of some game ratings data from BGG's website. \n",
    "* [BoardGameGeek XML API2](https://boardgamegeek.com/wiki/page/BGG_XML_API2)       \n",
    "    * BGG's API which includes user and game ratings details.\n",
    "* [BoardGameGeek Data Dictionary on Ratings](https://boardgamegeek.com/wiki/page/ratings)      \n",
    "    * Additional context and details on the rating system on BGG's website.\n",
    "* [BoardGameGeek API Terms of Use](https://boardgamegeek.com/wiki/page/XML_API_Terms_of_Use#)       \n",
    "    * This is a link to BGG's Terms of Service for the data for my reference.\n",
    "* [Kaggle Dataset of Board Game Attributes](https://www.kaggle.com/datasets/andrewmvd/board-games)        \n",
    "    * At this link, there is a csv of about 20k board games with 14 column attributes. \n",
    "* [Diving into BoardGameGeek](https://jvanelteren.github.io/blog/2022/01/19/boardgames.html).   \n",
    "    * Article with insights on BGG's ratings just for some research/context"
   ]
  }
 ],
 "metadata": {
  "kernelspec": {
   "display_name": "Python 3 (ipykernel)",
   "language": "python",
   "name": "python3"
  },
  "language_info": {
   "codemirror_mode": {
    "name": "ipython",
    "version": 3
   },
   "file_extension": ".py",
   "mimetype": "text/x-python",
   "name": "python",
   "nbconvert_exporter": "python",
   "pygments_lexer": "ipython3",
   "version": "3.9.7"
  }
 },
 "nbformat": 4,
 "nbformat_minor": 5
}

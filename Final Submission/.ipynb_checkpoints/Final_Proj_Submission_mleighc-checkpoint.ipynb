{
 "cells": [
  {
   "cell_type": "markdown",
   "id": "cc9c944d-6f02-47e1-9dce-4c3f7009233f",
   "metadata": {},
   "source": [
    "## SI507 Final Project Submission"
   ]
  },
  {
   "cell_type": "markdown",
   "id": "205900dc-86d6-40ad-aec8-ad7d9f4d32bd",
   "metadata": {
    "tags": []
   },
   "source": [
    "### Project Code and Repo\n",
    "Github: [mleighc/SI507-FinalProject](https://github.com/mleighc/SI507-FinalProject.git)           \n"
   ]
  },
  {
   "cell_type": "markdown",
   "id": "68c41b17-c2ed-4b30-8c24-4f9eda7dbb5e",
   "metadata": {},
   "source": [
    "### Project Code\n",
    "**Packages**:      \n",
    "> * requests   \n",
    "> * xmltodict    \n",
    "> * webbrowser   \n",
    "     \n",
    "**README**        \n",
    "* **Final_Proj_API.py**\n",
    "> Python File with code for accessing Board Game Geek's API and reading the data from XML to json in order to clean and parse the data. Then, the json objects are written to a json file.\n",
    "\n",
    "* **bgg_list.json**\n",
    "> The final file created by the code in Final_Proj_API.py.\n",
    "\n",
    "* **hot_boardgames.json**\n",
    "> Test json file used as initial example for figuring our the process of writing xmltodict and then saving that dict to json.\n",
    "\n",
    "* **Final_Proj_Tree.py**\n",
    "> Code for reading in the bgg_list.json file, parsing the data based on the outline of the tree structure and user question/answer flow, then loading that data into the tree structure. This file also include the control flow for interacting with the user and displaying necessary game information based on their answers to the computer's questions.\n"
   ]
  },
  {
   "cell_type": "markdown",
   "id": "cf4c8997-aaa1-49bd-b0cd-e3dd85b4bfd5",
   "metadata": {},
   "source": [
    "### Data Sources\n",
    "* [BoardGameGeek XML API2](https://boardgamegeek.com/wiki/page/BGG_XML_API2)       \n",
    "    * API Data is in XML format\n",
    "    * Accessed data using *requests* and *xmltodict* modules\n",
    "* [Kaggle Dataset of Board Game Attributes](https://www.kaggle.com/datasets/andrewmvd/board-games)        \n",
    "    * csv of game attributes also accessed from Board Game Geek's website      "
   ]
  },
  {
   "cell_type": "markdown",
   "id": "c95d8bd7-93f7-4b2d-9f39-8d788b7ad6a0",
   "metadata": {},
   "source": [
    "### More Info on BGG Data\n",
    "* [Diving into BoardGameGeek](https://jvanelteren.github.io/blog/2022/01/19/boardgames.html).   \n",
    "    * Article with insights on BGG's ratings just for some research/context\n",
    "* [BoardGameGeek Data Dictionary on Ratings](https://boardgamegeek.com/wiki/page/ratings)      \n",
    "    * Additional context and details on the rating system on BGG's website.\n",
    "* [BoardGameGeek API Terms of Use](https://boardgamegeek.com/wiki/page/XML_API_Terms_of_Use#)       \n",
    "    * This is a link to BGG's Terms of Service for the data for my reference."
   ]
  },
  {
   "cell_type": "markdown",
   "id": "44cf005a-f0db-41d3-a642-cd6ce561cafd",
   "metadata": {},
   "source": [
    "### Data Structure\n",
    "\n",
    "\n",
    "    "
   ]
  },
  {
   "cell_type": "markdown",
   "id": "a252182c",
   "metadata": {},
   "source": [
    "### Interaction and Presentation\n",
    "    \n",
    "\n",
    "\n",
    "       "
   ]
  },
  {
   "cell_type": "markdown",
   "id": "02b836b8",
   "metadata": {},
   "source": [
    "### Demo Video\n",
    "\n",
    "\n",
    "       "
   ]
  }
 ],
 "metadata": {
  "kernelspec": {
   "display_name": "Python 3 (ipykernel)",
   "language": "python",
   "name": "python3"
  },
  "language_info": {
   "codemirror_mode": {
    "name": "ipython",
    "version": 3
   },
   "file_extension": ".py",
   "mimetype": "text/x-python",
   "name": "python",
   "nbconvert_exporter": "python",
   "pygments_lexer": "ipython3",
   "version": "3.9.7"
  }
 },
 "nbformat": 4,
 "nbformat_minor": 5
}

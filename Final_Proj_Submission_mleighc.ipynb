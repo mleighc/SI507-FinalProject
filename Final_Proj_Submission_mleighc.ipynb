{
 "cells": [
  {
   "cell_type": "markdown",
   "id": "cc9c944d-6f02-47e1-9dce-4c3f7009233f",
   "metadata": {},
   "source": [
    "## SI507 Final Project Submission"
   ]
  },
  {
   "cell_type": "markdown",
   "id": "205900dc-86d6-40ad-aec8-ad7d9f4d32bd",
   "metadata": {},
   "source": [
    "### Project Code and Repo\n",
    "Github: [mleighc/SI507-FinalProject](https://github.com/mleighc/SI507-FinalProject.git)           \n",
    "        \n",
    "README: \n"
   ]
  },
  {
   "cell_type": "markdown",
   "id": "cf4c8997-aaa1-49bd-b0cd-e3dd85b4bfd5",
   "metadata": {},
   "source": [
    "### Data Sources\n",
    "* [BoardGameGeek XML API2](https://boardgamegeek.com/wiki/page/BGG_XML_API2)       \n",
    "    * API Data is in XML format\n",
    "    * Accessed data using *requests* and *xmltodict* modules\n",
    "* [Kaggle Dataset of Board Game Attributes](https://www.kaggle.com/datasets/andrewmvd/board-games)        \n",
    "    * csv of game attributes also accessed from Board Game Geek's website      "
   ]
  },
  {
   "cell_type": "markdown",
   "id": "c95d8bd7-93f7-4b2d-9f39-8d788b7ad6a0",
   "metadata": {},
   "source": [
    "### More Info on BGG Data\n",
    "* [Diving into BoardGameGeek](https://jvanelteren.github.io/blog/2022/01/19/boardgames.html).   \n",
    "    * Article with insights on BGG's ratings just for some research/context\n",
    "* [BoardGameGeek Data Dictionary on Ratings](https://boardgamegeek.com/wiki/page/ratings)      \n",
    "    * Additional context and details on the rating system on BGG's website.\n",
    "* [BoardGameGeek API Terms of Use](https://boardgamegeek.com/wiki/page/XML_API_Terms_of_Use#)       \n",
    "    * This is a link to BGG's Terms of Service for the data for my reference."
   ]
  },
  {
   "cell_type": "markdown",
   "id": "44cf005a-f0db-41d3-a642-cd6ce561cafd",
   "metadata": {},
   "source": [
    "### Data Structure\n",
    "\n",
    "\n",
    "    "
   ]
  },
  {
   "cell_type": "markdown",
   "id": "a252182c",
   "metadata": {},
   "source": [
    "### Interaction and Presentation\n",
    "    \n",
    "\n",
    "\n",
    "       "
   ]
  },
  {
   "cell_type": "markdown",
   "id": "02b836b8",
   "metadata": {},
   "source": [
    "### Demo Video\n",
    "\n",
    "\n",
    "       "
   ]
  }
 ],
 "metadata": {
  "kernelspec": {
   "display_name": "Python 3 (ipykernel)",
   "language": "python",
   "name": "python3"
  },
  "language_info": {
   "codemirror_mode": {
    "name": "ipython",
    "version": 3
   },
   "file_extension": ".py",
   "mimetype": "text/x-python",
   "name": "python",
   "nbconvert_exporter": "python",
   "pygments_lexer": "ipython3",
   "version": "3.8.12"
  }
 },
 "nbformat": 4,
 "nbformat_minor": 5
}

{
 "cells": [
  {
   "cell_type": "markdown",
   "id": "cc9c944d-6f02-47e1-9dce-4c3f7009233f",
   "metadata": {},
   "source": [
    "## SI507 Final Project Data Checkpoint"
   ]
  },
  {
   "cell_type": "markdown",
   "id": "205900dc-86d6-40ad-aec8-ad7d9f4d32bd",
   "metadata": {},
   "source": [
    "### Project Code Repo\n",
    "[mleighc/SI507-FinalProject](https://github.com/mleighc/SI507-FinalProject.git)\n"
   ]
  },
  {
   "cell_type": "markdown",
   "id": "cf4c8997-aaa1-49bd-b0cd-e3dd85b4bfd5",
   "metadata": {},
   "source": [
    "### Data Sources\n",
    "* [BoardGameGeek XML API2](https://boardgamegeek.com/wiki/page/BGG_XML_API2)       \n",
    "    * BGG's API which includes user and game ratings details.\n",
    "    * Will be using xmltodict to convert xml data to a dictionary for easier manipulation in python\n",
    "    * Able to access those same 20k+ boardgames with additional features such as:\n",
    "    > * Description\n",
    "    > * Full Image of Game Cover\n",
    "    > * List of Honors\n",
    "    > * Integrations\n",
    "* [Kaggle Dataset of Board Game Attributes](https://www.kaggle.com/datasets/andrewmvd/board-games)        \n",
    "    * At this link, there is a csv of about 20k board games with 14 column attributes. \n",
    "    * 20,344 rows of data with some of the following features: \n",
    "    > * ID\n",
    "    > * Year Published\n",
    "    > * Min Players\n",
    "    > * Max Players\n",
    "    > * Play Time\n",
    "    > * Min Age \n",
    "    > * Rating Average\n",
    "    > * Domains\n",
    "* [Diving into BoardGameGeek](https://jvanelteren.github.io/blog/2022/01/19/boardgames.html).   \n",
    "    * Article with insights on BGG's ratings just for some research/context\n",
    "* [Kaggle Datasets of BoardGameGeek Reviews in CSV](https://www.kaggle.com/datasets/jvanelteren/boardgamegeek-reviews?select=games_detailed_info.csv)    \n",
    "    * At this link, there is a csv from 1.8.2022 of some game ratings data from BGG's website. It is a large file of all the data that can also be accessed via the API.\n",
    "* [BoardGameGeek Data Dictionary on Ratings](https://boardgamegeek.com/wiki/page/ratings)      \n",
    "    * Additional context and details on the rating system on BGG's website.\n",
    "* [BoardGameGeek API Terms of Use](https://boardgamegeek.com/wiki/page/XML_API_Terms_of_Use#)       \n",
    "    * This is a link to BGG's Terms of Service for the data for my reference.\n",
    "    \n",
    "### Caching\n",
    "I have saved the XML API data to json and have enhanced these json objects with additional data accessed from the kaggle csv file as well as additional API calls using other available parameters. All data is sourced from Board Game Geek's website. The below example json file outputs include boardgames that are considered \"hot\" or currently most popular on BGG's website, as well as a snapshot of the larger subset of data that I compiled from the API calls and csv. I have enhanced this information with additional attributes like 'min no. players', 'min or max age', 'ratings', etc. Accessing the data from this json file, I will not be required to recall any of the API requests in order to access data for the user. I have also included snapshots of my code for compiling these json files.      \n",
    "      \n",
    "### Hot Items Test JSON object      \n",
    "![hot_bgg_json](hot_bgg_json.png)       \n",
    "    \n",
    "### Hot Items Test JSON object code       \n",
    "![hot_items](hot_items.png)        \n",
    "          \n",
    "### Subset of 1500 BGG records written to json\n",
    "![subset_json](subset_json.png)          \n",
    "        \n",
    "### Code for Subset of 1500 BGG records written to json       \n",
    "![data_compiling](data_compiling.png)         "
   ]
  },
  {
   "cell_type": "markdown",
   "id": "44cf005a-f0db-41d3-a642-cd6ce561cafd",
   "metadata": {},
   "source": [
    "### Data Structure\n",
    "I am planning to use a question and answer structure, somewhat similar to 20 questions. If I can categorize the data and set up a tree (maybe in tuples or maybe by instantiating a class), I want to formulate particular yes/no or categorical questions for users to navigate through the tree and narrow their search down to the ideal boardgame for them. I am starting this with a subset of the 20k+ boardgames to spare my computer. I may not go beyond this initial subset test data, but hope that I'd have my tree set up for any number of input data ultimately. I want the user to be able to answer questions, such as \"Are you looking for the most popular boardgames right now?\" for which I have a categorical variable of 'Hot Item?' to indicate if the items are present on BGG's most popular game list. Separately, I am hoping explore options of parsing the tree based on features like \"Age\" or \"Amount of Play Time\", so that users can get down to narrower and narrower lists of boardgames to pick from. Because cleaning, accessing, and compiling my data has taken longer than expected I do not yet have code to show for the tree structure, but that is my next step starting immediately. "
   ]
  },
  {
   "cell_type": "markdown",
   "id": "09fef3b5-18a6-4320-b64a-584f36566ef2",
   "metadata": {},
   "source": [
    "### Interaction and Presentation Plans"
   ]
  },
  {
   "cell_type": "markdown",
   "id": "af84b073",
   "metadata": {},
   "source": [
    "For now, I believe the user will interface with the program via the command line and have a series of questions that they will answer until they ultimately receive their suggested board game. The final output ideally will be a description of the game as it is provided by Board Game Geek. I'd also like them to have immediate access to an image of the board game cover, which would open for them in a webbrowser. Depending on time, I may explore options of presenting the interactive aspect of the question/answer output using Flask. For now, though, my intention is to use command line only, doing my best to pretty print the output, as well as using the webbrowser module to give the user access to the cover image and potentially additional links for accessing game information depending on what else I find that is available via BGG's API."
   ]
  }
 ],
 "metadata": {
  "kernelspec": {
   "display_name": "Python 3 (ipykernel)",
   "language": "python",
   "name": "python3"
  },
  "language_info": {
   "codemirror_mode": {
    "name": "ipython",
    "version": 3
   },
   "file_extension": ".py",
   "mimetype": "text/x-python",
   "name": "python",
   "nbconvert_exporter": "python",
   "pygments_lexer": "ipython3",
   "version": "3.8.12"
  }
 },
 "nbformat": 4,
 "nbformat_minor": 5
}
